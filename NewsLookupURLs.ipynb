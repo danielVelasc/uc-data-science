{
 "cells": [
  {
   "cell_type": "markdown",
   "metadata": {},
   "source": [
    "Below is a list of the available countries on newslookup.com as urls. We can use these urls to set queries on the site for quicker web scraping."
   ]
  },
  {
   "cell_type": "code",
   "execution_count": null,
   "metadata": {},
   "outputs": [],
   "source": [
    "sources = ['https://www.newslookup.com/africa/south_africa',\n",
    "'https://www.newslookup.com/africa/kenya',\n",
    "'https://www.newslookup.com/asia/china',\n",
    "'https://www.newslookup.com/asia/taiwan',\n",
    "'https://www.newslookup.com/asia/japan',\n",
    "'https://www.newslookup.com/asia/south_korea',\n",
    "'https://www.newslookup.com/asia/india',\n",
    "'https://www.newslookup.com/asia/pakistan',\n",
    "'https://www.newslookup.com/asia/southeast/indonesia',\n",
    "'https://www.newslookup.com/asia/philippines',\n",
    "'https://www.newslookup.com/asia/singapore/',\n",
    "'https://www.newslookup.com/asia/thailand',\n",
    "'https://www.newslookup.com/canada',\n",
    "'https://www.newslookup.com/europe/uk',\n",
    "'https://www.newslookup.com/europe/ireland',\n",
    "'https://www.newslookup.com/europe/scotland',\n",
    "'https://www.newslookup.com/australia',\n",
    "'https://www.newslookup.com/new_zealand',\n",
    "'https://www.newslookup.com/us/']\n"
   ]
  }
 ],
 "metadata": {
  "kernelspec": {
   "display_name": "Python 3",
   "language": "python",
   "name": "python3"
  },
  "language_info": {
   "codemirror_mode": {
    "name": "ipython",
    "version": 3
   },
   "file_extension": ".py",
   "mimetype": "text/x-python",
   "name": "python",
   "nbconvert_exporter": "python",
   "pygments_lexer": "ipython3",
   "version": "3.7.2"
  }
 },
 "nbformat": 4,
 "nbformat_minor": 2
}
