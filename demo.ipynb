{
 "cells": [
  {
   "cell_type": "markdown",
   "metadata": {
    "pycharm": {}
   },
   "source": [
    "#### Imports"
   ]
  },
  {
   "cell_type": "code",
   "execution_count": 1,
   "metadata": {
    "pycharm": {
     "is_executing": false
    }
   },
   "outputs": [],
   "source": [
    "import matplotlib.pyplot as plt\n",
    "import numpy as np\n",
    "import os\n",
    "import pandas as pd\n",
    "import warnings\n",
    "\n",
    "warnings.filterwarnings(action='ignore')\n",
    "\n",
    "from functools import reduce\n",
    "\n",
    "from sklearn.feature_selection import SelectKBest\n",
    "from sklearn.decomposition import PCA\n",
    "from sklearn.ensemble import RandomForestRegressor\n",
    "from sklearn.linear_model import LinearRegression\n",
    "from sklearn.model_selection import GridSearchCV, train_test_split\n",
    "from sklearn.neighbors import KNeighborsRegressor\n",
    "from sklearn.neural_network import MLPRegressor\n",
    "from sklearn.pipeline import Pipeline\n",
    "from sklearn.preprocessing import MinMaxScaler\n",
    "from sklearn.svm import SVR\n",
    "\n",
    "from textblob import TextBlob\n"
   ]
  },
  {
   "cell_type": "markdown",
   "metadata": {
    "pycharm": {}
   },
   "source": [
    "#### Constants"
   ]
  },
  {
   "cell_type": "code",
   "execution_count": 2,
   "metadata": {
    "pycharm": {
     "is_executing": false
    }
   },
   "outputs": [],
   "source": [
    "# column names\n",
    "COL_COUNTRY = 'country'\n",
    "COL_GDP = 'GDP'\n",
    "COL_HDI = 'HDI'\n",
    "COL_POLARITY = 'polarity'\n",
    "COL_POPULATION_DENSITY = 'population density'\n",
    "COL_SUBJECTIVITY = 'subjectivity'\n",
    "COL_UNEMPLOYMENT = 'unemployment rate'\n",
    "COL_URBAN_DENSITY = 'urban density (%)'\n",
    "COL_YEAR = 'year'\n",
    "COL_NEWS_TEMPLATE = 'news{}'\n",
    "\n",
    "TARGETS = [\n",
    "    'Anxiety disorders (%)'\n",
    "]\n",
    "\n",
    "FEATURES = [\n",
    "    COL_GDP,\n",
    "    COL_HDI,\n",
    "    COL_POLARITY,\n",
    "    COL_POPULATION_DENSITY,\n",
    "    COL_SUBJECTIVITY,\n",
    "    COL_UNEMPLOYMENT,\n",
    "    COL_URBAN_DENSITY,\n",
    "]\n",
    "\n",
    "SENTIMENT_FEATURES = [\n",
    "    COL_POLARITY,\n",
    "    COL_SUBJECTIVITY\n",
    "]\n",
    "\n",
    "# directories and filenames\n",
    "DIR_DATA = 'data'\n",
    "DIR_FINANCIAL = os.path.join(DIR_DATA, 'financial')\n",
    "DIR_HDI = os.path.join(DIR_DATA, 'human_development_index')\n",
    "DIR_MENTAL_HEALTH = os.path.join(DIR_DATA, 'mental_health')\n",
    "DIR_NEWS = os.path.join(DIR_DATA, 'news')\n",
    "DIR_POPULATION = os.path.join(DIR_DATA, 'population')\n",
    "\n",
    "FILENAME_DISORDERS = 'prevalence-by-mental-and-substance-use-disorder.csv'\n",
    "FILENAME_GDP = 'wrldbnk_gdp.csv'\n",
    "FILENAME_HDI = 'hdi.csv'\n",
    "FILENAME_NEWS_HEADLINES = 'news_headlines.csv'\n",
    "FILENAME_POPULATION_DENSITY = 'wrldbnk_pop_dnst.csv'\n",
    "FILENAME_UNEMPLOYMENT = 'wrldbnk_unemployment.csv'\n",
    "FILENAME_URBAN_DENSITY = 'wrldbnk_urban_pop.csv'\n",
    "\n",
    "# Years\n",
    "DATE_START = '2005'\n",
    "DATE_END = '2018'\n",
    "\n",
    "DATE_RANGE = [str(i) for i in range(2005, 2018)]\n",
    "DATE_NEWS_FROM = ['{}-02-02', '{}-05-05', '{}-07-07', '{}-11-11']\n",
    "DATE_NEWS_TO = ['{}-03-03', '{}-06-06','{}-08-08', '{}-12-12']\n",
    "\n",
    "\n",
    "# country values\n",
    "SELECTED_COUNTRIES = [\n",
    "    'south africa',\n",
    "    'kenya',\n",
    "    'china',\n",
    "    'taiwan',\n",
    "    'japan',\n",
    "    'south korea',\n",
    "    'india',\n",
    "    'pakistan',\n",
    "    'indonesia',\n",
    "    'philippines',\n",
    "    'singapore',\n",
    "    'thailand',\n",
    "    'canada',\n",
    "    'united kingdom',\n",
    "    'ireland',\n",
    "    'scotland',\n",
    "    'australia',\n",
    "    'new zealand',\n",
    "    'united states',\n",
    "]\n",
    "\n",
    "\n",
    "COUNTRIES_DICT = {\n",
    "    'australia' : 'australia',\n",
    "    'canada' : 'canada',\n",
    "    'china' : 'asia/china',\n",
    "    'india' : 'asia/india',\n",
    "    'indonesia' : 'asia/southeast/indonesia',\n",
    "    'ireland' : 'europe/ireland',\n",
    "    'japan' : 'asia/japan',\n",
    "    'kenya' : 'africa/kenya',\n",
    "    'new zealand' : 'new_zealand',\n",
    "    'pakistan' : 'asia/pakistan',\n",
    "    'philippines' : 'asia/philippines',\n",
    "    'scotland' : 'europe/scotland',\n",
    "    'singapore' : 'asia/singapore',\n",
    "    'south africa' : 'africa/south_africa',\n",
    "    'south korea' : 'asia/south_korea',\n",
    "    'taiwan' : 'asia/taiwan',\n",
    "    'thailand' : 'asia/thailand',\n",
    "    'united kingdom' : 'europe/uk',\n",
    "    'united states' : 'us'\n",
    "}\n",
    "\n",
    "\n",
    "# News URL\n",
    "URL = 'https://newslookup.com/{}?&ut={}&l=1&utto={}'\n",
    "FOLDS = 5"
   ]
  },
  {
   "cell_type": "markdown",
   "metadata": {
    "pycharm": {}
   },
   "source": [
    "## Headline Sentiment Data\n"
   ]
  },
  {
   "cell_type": "code",
   "execution_count": 3,
   "metadata": {
    "pycharm": {
     "is_executing": false
    }
   },
   "outputs": [],
   "source": [
    "# Read in the parsed news headlines from the csv file\n",
    "file_path = os.path.join(DIR_NEWS, FILENAME_NEWS_HEADLINES)\n",
    "headlines_df = pd.read_csv(file_path, sep='|', index_col=(0, 1))\n",
    "\n",
    "average_sentiment_columns = [COL_YEAR, COL_COUNTRY, COL_POLARITY, COL_SUBJECTIVITY]\n",
    "average_sentiment_df = pd.DataFrame(columns=average_sentiment_columns)\n",
    "\n",
    "news_columns = [COL_NEWS_TEMPLATE.format(i) for i in range(200)]\n",
    "news_columns.insert(0, COL_COUNTRY)\n",
    "news_columns.insert(0, COL_YEAR)\n",
    "polarity_df = pd.DataFrame(columns=news_columns)\n",
    "subjectivity_df = pd.DataFrame(columns=news_columns)\n",
    "\n",
    "# iterate through the headline rows\n",
    "for index, row in headlines_df.iterrows():\n",
    "    # lists to store the individual values for each headline\n",
    "    polarity_list = list()\n",
    "    subjectivity_list = list()\n",
    "\n",
    "    polarity_list.extend([index[0], index[1]])\n",
    "    subjectivity_list.extend([index[0], index[1]])\n",
    "\n",
    "    # values for the avgerage yearly polarity and subjectivity\n",
    "    yearly_average_polarity = 0\n",
    "    yearly_average_subjectivity = 0\n",
    "    yearly_average_count = 0\n",
    "\n",
    "    # calculate polarity and subjectivity for each headline\n",
    "    for entry in row:\n",
    "        if type(entry) == float:\n",
    "            polarity_list.append(entry)\n",
    "            subjectivity_list.append(entry)\n",
    "\n",
    "        else:\n",
    "            blob = TextBlob(entry)\n",
    "\n",
    "            pol_val = 0\n",
    "            sub_val = 0\n",
    "            count = 0\n",
    "\n",
    "            # average the values in case a headline is multiple sentences\n",
    "            for sentence in blob.sentences:\n",
    "                pol_val = pol_val + sentence.sentiment.polarity\n",
    "                sub_val = sub_val + sentence.sentiment.subjectivity\n",
    "                count = count + 1\n",
    "\n",
    "            polarity_list.append(pol_val / count)\n",
    "            subjectivity_list.append(sub_val / count)\n",
    "\n",
    "            yearly_average_polarity = yearly_average_polarity + pol_val / count\n",
    "            yearly_average_subjectivity = yearly_average_subjectivity + sub_val / count\n",
    "            yearly_average_count = yearly_average_count + 1\n",
    "\n",
    "    yearly_average_polarity = yearly_average_polarity / yearly_average_count\n",
    "    yearly_average_subjectivity = yearly_average_subjectivity / yearly_average_count\n",
    "\n",
    "    yearly_average_df = pd.DataFrame([[index[0], index[1], yearly_average_polarity, yearly_average_subjectivity]], columns=average_sentiment_columns)\n",
    "\n",
    "    pol_row_df = pd.DataFrame([polarity_list], columns=news_columns)\n",
    "    sub_row_df = pd.DataFrame([subjectivity_list], columns=news_columns)\n",
    "\n",
    "    average_sentiment_df = pd.concat([average_sentiment_df, yearly_average_df], sort=False)\n",
    "    polarity_df = pd.concat([polarity_df, pol_row_df], sort=False)\n",
    "    subjectivity_df = pd.concat([subjectivity_df, sub_row_df], sort=False)\n",
    "\n",
    "# these are all of the polarities and subjectivity values for each headline\n",
    "polarity_df = polarity_df.set_index([COL_YEAR, COL_COUNTRY])\n",
    "subjectivity_df = subjectivity_df.set_index([COL_YEAR, COL_COUNTRY])\n",
    "average_sentiment_df = average_sentiment_df.set_index([COL_YEAR, COL_COUNTRY])\n"
   ]
  },
  {
   "cell_type": "markdown",
   "metadata": {
    "pycharm": {}
   },
   "source": [
    "## Data Loading"
   ]
  },
  {
   "cell_type": "code",
   "execution_count": 4,
   "metadata": {
    "pycharm": {
     "is_executing": false
    }
   },
   "outputs": [],
   "source": [
    "def load_data_frame(file_name, path, sep=None):\n",
    "    \"\"\"\n",
    "    Loads data from specified path and name, returns a dataframe\n",
    "    \"\"\"\n",
    "    file_path = os.path.join(path, file_name)\n",
    "    if not sep:\n",
    "        return pd.read_csv(file_path)\n",
    "    return pd.read_csv(file_path, sep=sep)\n",
    "\n",
    "\n",
    "def load_mental_health_data():\n",
    "    \"\"\"\n",
    "    Loads mental health data, and performs basic preprocessing operations:\n",
    "        - columns renamed appropriately for compatibility\n",
    "        - selected countries are filtered\n",
    "        - unnecessary columns are dropped\n",
    "    \"\"\"\n",
    "    mental_df = load_data_frame(\n",
    "        FILENAME_DISORDERS,\n",
    "        DIR_MENTAL_HEALTH\n",
    "    )\n",
    "\n",
    "    mental_df.rename(columns={'Entity': COL_COUNTRY, 'Year': COL_YEAR}, inplace=True)\n",
    "    mental_df.drop(labels='Code', axis=1, inplace=True)\n",
    "    mental_df[COL_COUNTRY] = mental_df[COL_COUNTRY].str.lower()\n",
    "    mental_df = mental_df[mental_df[COL_COUNTRY].isin(SELECTED_COUNTRIES)]\n",
    "    return mental_df\n",
    "\n",
    "\n",
    "def load_world_bank_data(filename, directory, value):\n",
    "    \"\"\"\n",
    "    Loads World Bank data, and performs basic preprocessing operations:\n",
    "        - columns renamed appropriately for compatibility\n",
    "        - selected countries are filtered\n",
    "        - unnecessary columns are dropped\n",
    "        - non-numerical values are replaced with NaN or transformed appropriately\n",
    "    \"\"\"\n",
    "    df = load_data_frame(\n",
    "        filename,\n",
    "        directory\n",
    "    )\n",
    "    df.rename(columns={'Country Name': COL_COUNTRY}, inplace=True)\n",
    "    df.drop(['Indicator Name', 'Indicator Code', 'Country Code'], axis=1, inplace = True)\n",
    "    df = df.replace('..', np.NaN)\n",
    "    df.loc[:,1:] = df.iloc[:, 1:].apply(pd.to_numeric)\n",
    "    df[COL_COUNTRY] = df[COL_COUNTRY].str.lower()\n",
    "    df = df.replace('korea, rep.', 'south korea')\n",
    "    df = df.loc[df[COL_COUNTRY].isin(SELECTED_COUNTRIES)]\n",
    "\n",
    "    columns = df.columns\n",
    "    country_index = columns.get_loc(COL_COUNTRY)\n",
    "    start_index = columns.get_loc(DATE_START)\n",
    "    end_index = columns.get_loc(DATE_END)\n",
    "    df = df.iloc[:, np.r_[country_index, start_index:end_index]]\n",
    "\n",
    "    # Reshape the dataframe to structure `country|year|value`\n",
    "    df = pd.melt(\n",
    "        df,\n",
    "        id_vars=COL_COUNTRY,\n",
    "        var_name=COL_YEAR,\n",
    "        value_name=value\n",
    "    )\n",
    "    df[COL_YEAR] = df[COL_YEAR].apply(pd.to_numeric)\n",
    "    df = df.sort_values([COL_COUNTRY, COL_YEAR])\n",
    "    df.reset_index(inplace=True, drop=True)\n",
    "    df.dropna(axis=0, inplace=True)\n",
    "    return df\n",
    "\n",
    "\n",
    "def load_hdi_data():\n",
    "    \"\"\"\n",
    "    Loads human development index (HDI) data, and performs basic preprocessing operations:\n",
    "        - columns are renamed for compatibility\n",
    "        - selected countries are filtered\n",
    "        - unnecessary columns are dropped\n",
    "    \"\"\"\n",
    "    hdi_df = load_data_frame(\n",
    "        FILENAME_HDI,\n",
    "        DIR_HDI\n",
    "    )\n",
    "\n",
    "    hdi_df = hdi_df.dropna(how='all', axis=1)\n",
    "    hdi_df.drop('HDI Rank (2017)', axis=1, inplace=True)\n",
    "    hdi_df.rename(columns={'Country': COL_COUNTRY, 'Year': COL_YEAR}, inplace=True)\n",
    "    hdi_df[COL_COUNTRY] = hdi_df[COL_COUNTRY].str.lower().str.strip()\n",
    "    hdi_df = hdi_df[hdi_df[COL_COUNTRY].isin(SELECTED_COUNTRIES)]\n",
    "    hdi_df = hdi_df.reset_index(drop=True)\n",
    "    hdi_df.loc[:,1:] = hdi_df.iloc[:,1:].apply(pd.to_numeric)\n",
    "\n",
    "    # Reshape the dataframe to structure `country|year|value`\n",
    "    hdi_df = pd.melt(\n",
    "        hdi_df,\n",
    "        id_vars=[COL_COUNTRY],\n",
    "        var_name=COL_YEAR,\n",
    "        value_name=COL_HDI\n",
    "    )\n",
    "\n",
    "    hdi_df[COL_YEAR] = hdi_df[COL_YEAR].apply(pd.to_numeric)\n",
    "    hdi_df = hdi_df.drop(hdi_df[hdi_df.year < int(DATE_START)].index)\n",
    "    hdi_df = hdi_df.drop(hdi_df[hdi_df.year > int(DATE_END)].index)\n",
    "    return hdi_df\n",
    "\n"
   ]
  },
  {
   "cell_type": "markdown",
   "metadata": {
    "pycharm": {}
   },
   "source": [
    "## Joining Datasets"
   ]
  },
  {
   "cell_type": "code",
   "execution_count": 5,
   "metadata": {
    "pycharm": {
     "is_executing": false
    }
   },
   "outputs": [],
   "source": [
    "population_df = load_world_bank_data(FILENAME_POPULATION_DENSITY, DIR_POPULATION, COL_POPULATION_DENSITY)\n",
    "urban_df = load_world_bank_data(FILENAME_URBAN_DENSITY, DIR_POPULATION, COL_URBAN_DENSITY)\n",
    "gdp_df = load_world_bank_data(FILENAME_GDP, DIR_FINANCIAL, COL_GDP)\n",
    "unemployment_df = load_world_bank_data(FILENAME_UNEMPLOYMENT, DIR_FINANCIAL, COL_UNEMPLOYMENT)\n",
    "hdi_df = load_hdi_data()\n",
    "mental_df = load_mental_health_data()\n",
    "\n",
    "\n",
    "\n",
    "# Joining individual datasets on population and urban population density, \n",
    "# GDP, unemployment, HDI, average news headlines sentiment, and mental health data\n",
    "data_frames_list = [\n",
    "    population_df,\n",
    "    urban_df,\n",
    "    gdp_df,\n",
    "    unemployment_df,\n",
    "    hdi_df,\n",
    "    average_sentiment_df, \n",
    "    mental_df\n",
    "]\n",
    "\n",
    "joined_df = reduce(lambda left, right: pd.merge(left, right, on=[COL_COUNTRY, COL_YEAR], how='inner'), data_frames_list)\n",
    "joined_df.head()"
   ]
  },
  {
   "cell_type": "markdown",
   "metadata": {
    "pycharm": {}
   },
   "source": [
    "## Pipeline Setup"
   ]
  },
  {
   "cell_type": "code",
   "execution_count": 6,
   "metadata": {
    "pycharm": {
     "is_executing": false
    }
   },
   "outputs": [],
   "source": [
    "# Regressors and their tuning parameters\n",
    "net = MLPRegressor()\n",
    "net_parameters = {\n",
    "    'net__learning_rate': ['constant', 'invscaling', 'adaptive'],\n",
    "    'net__hidden_layer_sizes': [(50), (100), (50, 50), (100, 100), (150, 150), (100, 100, 100)],\n",
    "    'net__max_iter': [10, 100, 1000]\n",
    "}\n",
    "\n",
    "linear = LinearRegression()\n",
    "linear_parameters = {\n",
    "    'linear__fit_intercept': [True, False]\n",
    "}\n",
    "\n",
    "forest = RandomForestRegressor()\n",
    "forest_parameters = {\n",
    "    'forest__n_estimators': [10, 20, 50],\n",
    "    'forest__max_depth': [2, 5],\n",
    "    'forest__min_samples_split': [3, 4, 5],\n",
    "    'forest__max_features': ['auto', 'sqrt', 'log2']\n",
    "}\n",
    "\n",
    "svr = SVR(kernel='rbf')\n",
    "svr_parameters = {\n",
    "    'svr__C': [0.001, 0.01,  1, 10, 100],\n",
    "    'svr__epsilon': [ 0.01, .1, 0.5, 1, 2, 4],\n",
    "}\n",
    "\n",
    "knn = KNeighborsRegressor()\n",
    "knn_parameters = {\n",
    "    'knn__n_neighbors': [5, 10, 20, 30]\n",
    "}\n",
    "\n",
    "def generate_pipelined_grid_search(name_estimator, estimator_params, scale=True, pca=False, no_of_features=len(FEATURES)+1):\n",
    "    \"\"\"\n",
    "    Generates a GridSearchCV object by assembling a Pipeline where input estimator is at the end. \n",
    "    Default behaviour is to include a 'SelectKBest' step between scaling and regression.\n",
    "    \n",
    "    :param name_estimator: a tuple of name and estimator to be used at the end of the pipeline\n",
    "    :param estimator_params: dictionary of parameters to tune in the estimator\n",
    "    :param scale: Whether to include a scaling component at the beginning of the pipeline\n",
    "    :param pca: If true, 'selector' step is associated to a PCA object\n",
    "    \n",
    "    :return: A pipeline containing input estimator and a dictionary of parameters to be tuned\n",
    "             for feature selection.\n",
    "    \"\"\"\n",
    "    steps = []\n",
    "    if scale or pca:\n",
    "        steps.append(('scaler', MinMaxScaler()))\n",
    "    if pca:\n",
    "        steps.append(('selector', PCA(random_state=0)))\n",
    "        params = dict(estimator_params, selector__n_components=range(1, no_of_features))\n",
    "\n",
    "    if not pca: \n",
    "        steps.append(('selector', SelectKBest()))\n",
    "        params = dict(estimator_params, selector__k=range(1, no_of_features))\n",
    "\n",
    "    steps.append(name_estimator)\n",
    "\n",
    "    return GridSearchCV(\n",
    "        Pipeline(steps=steps),\n",
    "        params,\n",
    "        cv=FOLDS,\n",
    "        n_jobs=-1,\n",
    "        verbose=5\n",
    "    )\n",
    "\n",
    "def append_score(model, target_df, grid_searcher, x_test, y_test, pca=False):\n",
    "    if not pca:\n",
    "        num_features_used = int(grid_searcher.best_params_['selector__k'])\n",
    "        scores = grid_searcher.best_estimator_.named_steps.selector.scores_\n",
    "        highest_scores_indices = np.argpartition(scores, -num_features_used)[-num_features_used:]\n",
    "        features_used = x_test.columns[highest_scores_indices].values\n",
    "    else:\n",
    "        features_used = 'PCA - N/A'\n",
    "\n",
    "    result_row = pd.DataFrame([{'Model': model, \n",
    "                            'Train Score': grid_searcher.best_score_,\n",
    "                            'Test Score': grid_searcher.best_estimator_.score(x_test, y_test),\n",
    "                            'Features': features_used\n",
    "                           }])\n",
    "    target_df = target_df.append(result_row)\n",
    "    return target_df.reindex(columns=['Model', 'Train Score', 'Test Score', 'Features'])\n",
    "    \n",
    "def print_stats(grid_searcher, x_test, y_test, pca=False):\n",
    "    print('Best estimator\\n', grid_searcher.best_estimator_, '\\n')\n",
    "    print('Best parameters:', grid_searcher.best_params_, '\\n')\n",
    "    print('Train score:', grid_searcher.best_score_)\n",
    "    print('Test score:', grid_searcher.best_estimator_.score(x_test, y_test))\n",
    "    \n",
    "    if not pca:\n",
    "        num_features_used = int(grid_searcher.best_params_['selector__k'])\n",
    "        scores = grid_searcher.best_estimator_.named_steps.selector.scores_\n",
    "        highest_scores_indices = np.argpartition(scores, -num_features_used)[-num_features_used:]\n",
    "    \n",
    "        features_used = x_test.columns[highest_scores_indices].values\n",
    "        print('Features used:', features_used)"
   ]
  },
  {
   "cell_type": "markdown",
   "metadata": {},
   "source": [
    "<b> Columns in the joined data </b>"
   ]
  },
  {
   "cell_type": "code",
   "execution_count": 7,
   "metadata": {
    "pycharm": {
     "is_executing": false
    }
   },
   "outputs": [
    {
     "data": {
      "text/plain": [
       "Index(['country', 'year', 'population density', 'urban density (%)', 'GDP',\n",
       "       'unemployment rate', 'HDI', 'polarity', 'subjectivity',\n",
       "       'Schizophrenia (%)', 'Bipolar disorder (%)', 'Eating disorders (%)',\n",
       "       'Anxiety disorders (%)', 'Drug use disorders (%)', 'Depression (%)',\n",
       "       'Alcohol use disorders (%)'],\n",
       "      dtype='object')"
      ]
     },
     "execution_count": 7,
     "metadata": {},
     "output_type": "execute_result"
    }
   ],
   "source": [
    "joined_df.columns"
   ]
  },
  {
   "cell_type": "markdown",
   "metadata": {},
   "source": [
    "<b>Visualizing Polarity</b>\n",
    "Here we plot polarity vs different disorders for every single country. To see if there might be any relations."
   ]
  },
  {
   "cell_type": "markdown",
   "metadata": {},
   "source": [
    "# Defining Modeling Strategy"
   ]
  },
  {
   "cell_type": "markdown",
   "metadata": {
    "pycharm": {}
   },
   "source": [
    "<b>Based on SelectKBest</b>"
   ]
  },
  {
   "cell_type": "code",
   "execution_count": 8,
   "metadata": {
    "pycharm": {
     "is_executing": false
    }
   },
   "outputs": [],
   "source": [
    "def run_select_k_best(x,y,grid_searcher_net,grid_searcher_linear,grid_searcher_forest,grid_searcher_svr,grid_searcher_knn):\n",
    "    x_train, x_test, y_train, y_test = train_test_split(x, y, random_state=0)\n",
    "    print('Columns in Training Data\\n', x.columns)\n",
    "\n",
    "    result_df = pd.DataFrame(columns=['Model', 'Train Score', 'Test Score', 'Features'])\n",
    "\n",
    "    grid_searcher_net.fit(x_train, y_train)\n",
    "    print('\\t****\\tMULTI-LAYER PERCEPTRON\\t****')\n",
    "    print_stats(grid_searcher_net, x_test, y_test)\n",
    "    result_df = append_score('Multi-Layer Perceptron', result_df, grid_searcher_net, x_test, y_test)\n",
    "\n",
    "    grid_searcher_linear.fit(x_train, y_train)\n",
    "    print('\\t****\\tLINEAR REGRESSOR\\t****')\n",
    "    print_stats(grid_searcher_linear, x_test, y_test)\n",
    "    result_df = append_score('Linear Regressor', result_df, grid_searcher_linear, x_test, y_test)\n",
    "\n",
    "    grid_searcher_forest.fit(x_train, y_train)\n",
    "    print('\\t****\\tRANDOM FOREST REGRESSOR\\t****')\n",
    "    print_stats(grid_searcher_forest, x_test, y_test)\n",
    "    result_df = append_score('Random Forest Regressor', result_df, grid_searcher_forest, x_test, y_test)\n",
    "\n",
    "    grid_searcher_svr.fit(x_train, y_train)\n",
    "    print('\\t****\\tSUPPORT VECTOR MACHINE\\t****')\n",
    "    print_stats(grid_searcher_svr, x_test, y_test)\n",
    "    result_df = append_score('Support Vector Machine', result_df, grid_searcher_svr, x_test, y_test)\n",
    "\n",
    "    grid_searcher_knn.fit(x_train, y_train)\n",
    "    print('\\t****\\tK-NEAREST NEIGHBORS\\t****')\n",
    "    print_stats(grid_searcher_knn, x_test, y_test)\n",
    "    result_df = append_score('k-Nearest Neighbors', result_df, grid_searcher_knn, x_test, y_test)\n",
    "    \n",
    "    return result_df"
   ]
  },
  {
   "cell_type": "markdown",
   "metadata": {},
   "source": [
    "# Training and Testing\n",
    "Here we run the CV grid searcher for pipelines and parameters defined earlier. We try to predict each of the illness rates using the gathered features. This script takes a long time to run as it goes through every possible combinations of the provided parameters to find the best model for the job. The results are summed up in the dataframes below."
   ]
  },
  {
   "cell_type": "markdown",
   "metadata": {},
   "source": [
    "<h2>With all features</h2>"
   ]
  },
  {
   "cell_type": "code",
   "execution_count": 9,
   "metadata": {},
   "outputs": [
    {
     "name": "stdout",
     "output_type": "stream",
     "text": [
      "Columns in Training Data\n",
      " Index(['GDP', 'HDI', 'polarity', 'population density', 'subjectivity',\n",
      "       'unemployment rate', 'urban density (%)'],\n",
      "      dtype='object')\n",
      "Fitting 5 folds for each of 378 candidates, totalling 1890 fits\n"
     ]
    },
    {
     "name": "stderr",
     "output_type": "stream",
     "text": [
      "[Parallel(n_jobs=-1)]: Using backend LokyBackend with 4 concurrent workers.\n",
      "[Parallel(n_jobs=-1)]: Done  10 tasks      | elapsed:    2.0s\n",
      "[Parallel(n_jobs=-1)]: Done 136 tasks      | elapsed:    8.3s\n",
      "[Parallel(n_jobs=-1)]: Done 353 tasks      | elapsed:   22.3s\n",
      "[Parallel(n_jobs=-1)]: Done 671 tasks      | elapsed:   44.0s\n",
      "[Parallel(n_jobs=-1)]: Done 1121 tasks      | elapsed:  1.1min\n",
      "[Parallel(n_jobs=-1)]: Done 1715 tasks      | elapsed:  1.5min\n",
      "[Parallel(n_jobs=-1)]: Done 1890 out of 1890 | elapsed:  1.6min finished\n"
     ]
    },
    {
     "name": "stdout",
     "output_type": "stream",
     "text": [
      "\t****\tMULTI-LAYER PERCEPTRON\t****\n",
      "Best estimator\n",
      " Pipeline(memory=None,\n",
      "     steps=[('scaler', MinMaxScaler(copy=True, feature_range=(0, 1))), ('selector', SelectKBest(k=4, score_func=<function f_classif at 0x121b99bf8>)), ('net', MLPRegressor(activation='relu', alpha=0.0001, batch_size='auto', beta_1=0.9,\n",
      "       beta_2=0.999, early_stopping=False, epsilon=1e-08,\n",
      "       hidd...=True, solver='adam', tol=0.0001,\n",
      "       validation_fraction=0.1, verbose=False, warm_start=False))]) \n",
      "\n",
      "Best parameters: {'net__hidden_layer_sizes': (50, 50), 'net__learning_rate': 'constant', 'net__max_iter': 1000, 'selector__k': 4} \n",
      "\n",
      "Train score: 0.7767715491575429\n",
      "Test score: 0.8791614597296945\n",
      "Features used: ['GDP' 'HDI' 'polarity' 'urban density (%)']\n",
      "Fitting 5 folds for each of 14 candidates, totalling 70 fits\n"
     ]
    },
    {
     "name": "stderr",
     "output_type": "stream",
     "text": [
      "[Parallel(n_jobs=-1)]: Using backend LokyBackend with 4 concurrent workers.\n",
      "[Parallel(n_jobs=-1)]: Done  20 tasks      | elapsed:    0.3s\n",
      "[Parallel(n_jobs=-1)]: Done  70 out of  70 | elapsed:    0.5s finished\n",
      "[Parallel(n_jobs=-1)]: Using backend LokyBackend with 4 concurrent workers.\n"
     ]
    },
    {
     "name": "stdout",
     "output_type": "stream",
     "text": [
      "\t****\tLINEAR REGRESSOR\t****\n",
      "Best estimator\n",
      " Pipeline(memory=None,\n",
      "     steps=[('scaler', MinMaxScaler(copy=True, feature_range=(0, 1))), ('selector', SelectKBest(k=7, score_func=<function f_classif at 0x121b99bf8>)), ('linear', LinearRegression(copy_X=True, fit_intercept=True, n_jobs=None,\n",
      "         normalize=False))]) \n",
      "\n",
      "Best parameters: {'linear__fit_intercept': True, 'selector__k': 7} \n",
      "\n",
      "Train score: 0.7039916938507242\n",
      "Test score: 0.8623185517949138\n",
      "Features used: ['GDP' 'HDI' 'polarity' 'population density' 'subjectivity'\n",
      " 'unemployment rate' 'urban density (%)']\n",
      "Fitting 5 folds for each of 378 candidates, totalling 1890 fits\n"
     ]
    },
    {
     "name": "stderr",
     "output_type": "stream",
     "text": [
      "[Parallel(n_jobs=-1)]: Done  20 tasks      | elapsed:    0.4s\n",
      "[Parallel(n_jobs=-1)]: Done 344 tasks      | elapsed:    5.6s\n",
      "[Parallel(n_jobs=-1)]: Done 884 tasks      | elapsed:   14.4s\n",
      "[Parallel(n_jobs=-1)]: Done 1640 tasks      | elapsed:   25.9s\n",
      "[Parallel(n_jobs=-1)]: Done 1890 out of 1890 | elapsed:   30.0s finished\n",
      "[Parallel(n_jobs=-1)]: Using backend LokyBackend with 4 concurrent workers.\n"
     ]
    },
    {
     "name": "stdout",
     "output_type": "stream",
     "text": [
      "\t****\tRANDOM FOREST REGRESSOR\t****\n",
      "Best estimator\n",
      " Pipeline(memory=None,\n",
      "     steps=[('scaler', MinMaxScaler(copy=True, feature_range=(0, 1))), ('selector', SelectKBest(k=7, score_func=<function f_classif at 0x121b99bf8>)), ('forest', RandomForestRegressor(bootstrap=True, criterion='mse', max_depth=5,\n",
      "           max_features='auto', max_leaf_nodes=None,\n",
      "           min_impurit...ators=50, n_jobs=None,\n",
      "           oob_score=False, random_state=None, verbose=0, warm_start=False))]) \n",
      "\n",
      "Best parameters: {'forest__max_depth': 5, 'forest__max_features': 'auto', 'forest__min_samples_split': 3, 'forest__n_estimators': 50, 'selector__k': 7} \n",
      "\n",
      "Train score: 0.9527594191970494\n",
      "Test score: 0.981675695595033\n",
      "Features used: ['GDP' 'HDI' 'polarity' 'population density' 'subjectivity'\n",
      " 'unemployment rate' 'urban density (%)']\n",
      "Fitting 5 folds for each of 210 candidates, totalling 1050 fits\n"
     ]
    },
    {
     "name": "stderr",
     "output_type": "stream",
     "text": [
      "[Parallel(n_jobs=-1)]: Done  40 tasks      | elapsed:    0.6s\n",
      "[Parallel(n_jobs=-1)]: Done 904 tasks      | elapsed:    5.9s\n",
      "[Parallel(n_jobs=-1)]: Done 1050 out of 1050 | elapsed:    7.0s finished\n",
      "[Parallel(n_jobs=-1)]: Using backend LokyBackend with 4 concurrent workers.\n"
     ]
    },
    {
     "name": "stdout",
     "output_type": "stream",
     "text": [
      "\t****\tSUPPORT VECTOR MACHINE\t****\n",
      "Best estimator\n",
      " Pipeline(memory=None,\n",
      "     steps=[('scaler', MinMaxScaler(copy=True, feature_range=(0, 1))), ('selector', SelectKBest(k=7, score_func=<function f_classif at 0x121b99bf8>)), ('svr', SVR(C=10, cache_size=200, coef0=0.0, degree=3, epsilon=0.1,\n",
      "  gamma='auto_deprecated', kernel='rbf', max_iter=-1, shrinking=True,\n",
      "  tol=0.001, verbose=False))]) \n",
      "\n",
      "Best parameters: {'selector__k': 7, 'svr__C': 10, 'svr__epsilon': 0.1} \n",
      "\n",
      "Train score: 0.7357758163059576\n",
      "Test score: 0.8857402238638656\n",
      "Features used: ['GDP' 'HDI' 'polarity' 'population density' 'subjectivity'\n",
      " 'unemployment rate' 'urban density (%)']\n",
      "Fitting 5 folds for each of 28 candidates, totalling 140 fits\n"
     ]
    },
    {
     "name": "stderr",
     "output_type": "stream",
     "text": [
      "[Parallel(n_jobs=-1)]: Done  24 tasks      | elapsed:    0.4s\n",
      "[Parallel(n_jobs=-1)]: Done 104 out of 140 | elapsed:    0.8s remaining:    0.3s\n"
     ]
    },
    {
     "name": "stdout",
     "output_type": "stream",
     "text": [
      "\t****\tK-NEAREST NEIGHBORS\t****\n",
      "Best estimator\n",
      " Pipeline(memory=None,\n",
      "     steps=[('scaler', MinMaxScaler(copy=True, feature_range=(0, 1))), ('selector', SelectKBest(k=7, score_func=<function f_classif at 0x121b99bf8>)), ('knn', KNeighborsRegressor(algorithm='auto', leaf_size=30, metric='minkowski',\n",
      "          metric_params=None, n_jobs=None, n_neighbors=5, p=2,\n",
      "          weights='uniform'))]) \n",
      "\n",
      "Best parameters: {'knn__n_neighbors': 5, 'selector__k': 7} \n",
      "\n",
      "Train score: 0.6760881468825559\n",
      "Test score: 0.897100082257263\n",
      "Features used: ['GDP' 'HDI' 'polarity' 'population density' 'subjectivity'\n",
      " 'unemployment rate' 'urban density (%)']\n"
     ]
    },
    {
     "name": "stderr",
     "output_type": "stream",
     "text": [
      "[Parallel(n_jobs=-1)]: Done 140 out of 140 | elapsed:    1.1s finished\n"
     ]
    }
   ],
   "source": [
    "grid_searcher_net = generate_pipelined_grid_search(('net', net), net_parameters)\n",
    "grid_searcher_linear = generate_pipelined_grid_search(('linear', linear), linear_parameters)\n",
    "grid_searcher_forest = generate_pipelined_grid_search(('forest', forest), forest_parameters)\n",
    "grid_searcher_svr = generate_pipelined_grid_search(('svr', svr), svr_parameters)\n",
    "grid_searcher_knn = generate_pipelined_grid_search(('knn', knn), knn_parameters)\n",
    "grid_searcher_net_pca = generate_pipelined_grid_search(('net', net), net_parameters, pca=True)\n",
    "grid_searcher_linear_pca = generate_pipelined_grid_search(('linear', linear), linear_parameters, pca=True)\n",
    "grid_searcher_forest_pca = generate_pipelined_grid_search(('forest', forest), forest_parameters, pca=True)\n",
    "grid_searcher_svr_pca = generate_pipelined_grid_search(('svr', svr), svr_parameters, pca=True)\n",
    "grid_searcher_knn_pca = generate_pipelined_grid_search(('knn', knn), knn_parameters, pca=True)\n",
    "\n",
    "# Removing indexing columns (country, year) and rates that will not be predicted\n",
    "results = []\n",
    "for TARGET in TARGETS:\n",
    "    y = joined_df.copy().pop(TARGET)\n",
    "    x = joined_df.copy()[FEATURES]\n",
    "    result_skb = run_select_k_best(x,y,grid_searcher_net,grid_searcher_linear,\n",
    "                      grid_searcher_forest,grid_searcher_svr,grid_searcher_knn)\n",
    "    result_target = {'target':TARGET,'SelectKBest': result_skb, 'PCA': False}\n",
    "    results.append(result_target)"
   ]
  },
  {
   "cell_type": "markdown",
   "metadata": {},
   "source": [
    "# Results - With Sentiment"
   ]
  },
  {
   "cell_type": "code",
   "execution_count": 12,
   "metadata": {
    "scrolled": false
   },
   "outputs": [
    {
     "name": "stdout",
     "output_type": "stream",
     "text": [
      "\u001b[1mResults trying to predict Anxiety disorders (%)\n"
     ]
    },
    {
     "data": {
      "text/html": [
       "<table border=\"1\" class=\"dataframe\">\n",
       "  <thead>\n",
       "    <tr style=\"text-align: right;\">\n",
       "      <th></th>\n",
       "      <th>Model</th>\n",
       "      <th>Train Score</th>\n",
       "      <th>Test Score</th>\n",
       "      <th>Features</th>\n",
       "    </tr>\n",
       "  </thead>\n",
       "  <tbody>\n",
       "    <tr>\n",
       "      <th>0</th>\n",
       "      <td>Multi-Layer Perceptron</td>\n",
       "      <td>0.776772</td>\n",
       "      <td>0.879161</td>\n",
       "      <td>[GDP, HDI, polarity, urban density (%)]</td>\n",
       "    </tr>\n",
       "    <tr>\n",
       "      <th>0</th>\n",
       "      <td>Linear Regressor</td>\n",
       "      <td>0.703992</td>\n",
       "      <td>0.862319</td>\n",
       "      <td>[GDP, HDI, polarity, population density, subjectivity, unemployment rate, urban density (%)]</td>\n",
       "    </tr>\n",
       "    <tr>\n",
       "      <th>0</th>\n",
       "      <td>Random Forest Regressor</td>\n",
       "      <td>0.952759</td>\n",
       "      <td>0.981676</td>\n",
       "      <td>[GDP, HDI, polarity, population density, subjectivity, unemployment rate, urban density (%)]</td>\n",
       "    </tr>\n",
       "    <tr>\n",
       "      <th>0</th>\n",
       "      <td>Support Vector Machine</td>\n",
       "      <td>0.735776</td>\n",
       "      <td>0.885740</td>\n",
       "      <td>[GDP, HDI, polarity, population density, subjectivity, unemployment rate, urban density (%)]</td>\n",
       "    </tr>\n",
       "    <tr>\n",
       "      <th>0</th>\n",
       "      <td>k-Nearest Neighbors</td>\n",
       "      <td>0.676088</td>\n",
       "      <td>0.897100</td>\n",
       "      <td>[GDP, HDI, polarity, population density, subjectivity, unemployment rate, urban density (%)]</td>\n",
       "    </tr>\n",
       "  </tbody>\n",
       "</table>"
      ],
      "text/plain": [
       "<IPython.core.display.HTML object>"
      ]
     },
     "metadata": {},
     "output_type": "display_data"
    },
    {
     "data": {
      "image/png": "[encoded data removed]",
      "text/plain": [
       "<Figure size 1080x360 with 1 Axes>"
      ]
     },
     "metadata": {
      "needs_background": "light"
     },
     "output_type": "display_data"
    }
   ],
   "source": [
    "from IPython.display import display, HTML\n",
    "import copy\n",
    "pd.set_option('display.max_colwidth', -1)\n",
    "\n",
    "result_to_iterate = copy.deepcopy(results)\n",
    "for result in result_to_iterate:\n",
    "    \n",
    "    print('\\033[1m'+\"Results for\", result['target'])\n",
    "    fig, (ax) = plt.subplots(ncols=1, figsize=(15,5))\n",
    "    \n",
    "    # Display and draw graph for SelectKBest\n",
    "    df = result['SelectKBest']\n",
    "    display(HTML(df.to_html()))  \n",
    "    ax = df.set_index('Model').plot(kind = 'bar', title='SKB '+result['target'], ax=ax)"
   ]
  },
  {
   "cell_type": "markdown",
   "metadata": {},
   "source": [
    "# Statistical Analysis of Results\n",
    "<br>\n",
    "The data collected above suggests that Random Forest Regressors are the best candidates for estimation of anxiety rates. The hyper-parameters used in the pipelines for the sentiment and no-sentiment groups are used."
   ]
  },
  {
   "cell_type": "markdown",
   "metadata": {},
   "source": [
    "### No Sentiment"
   ]
  },
  {
   "cell_type": "code",
   "execution_count": null,
   "metadata": {},
   "outputs": [],
   "source": [
    "TARGET='Anxiety disorders (%)'\n",
    "y = joined_df.copy().pop(TARGET)\n",
    "x = joined_df.copy()[FEATURES]\n",
    "x = x.drop(['polarity','subjectivity'], 1)\n",
    "x_train, x_test, y_train, y_test = train_test_split(x, y, random_state=0)\n",
    "\n",
    "test_scores_no_sentiment = list()\n",
    "\n",
    "for i in range(30):\n",
    "    rfe_no_sentiment = RandomForestRegressor(\n",
    "        max_depth=5,\n",
    "        max_features='sqrt',\n",
    "        min_samples_split=3,\n",
    "        n_estimators=50\n",
    "    )\n",
    "\n",
    "    select_no_sentiment = SelectKBest(k=4)\n",
    "\n",
    "    scaler_no_sentiment = MinMaxScaler()\n",
    "\n",
    "    pipeline_no_sentiment = Pipeline(\n",
    "        steps=[\n",
    "            ('scaler', scaler_no_sentiment),\n",
    "            ('selector', select_no_sentiment),\n",
    "            ('estimator', rfe_no_sentiment),\n",
    "        ]\n",
    "    )\n",
    "    \n",
    "    pipeline_no_sentiment.fit(x_train, y_train)\n",
    "    test_scores_no_sentiment.append(pipeline_no_sentiment.score(x_test, y_test))\n",
    "    \n",
    "print('\\n'.join('{}'.format(score) for score in test_scores_no_sentiment))"
   ]
  },
  {
   "cell_type": "markdown",
   "metadata": {},
   "source": [
    "### Sentiment"
   ]
  },
  {
   "cell_type": "code",
   "execution_count": null,
   "metadata": {},
   "outputs": [],
   "source": [
    "TARGET='Anxiety disorders (%)'\n",
    "y = joined_df.copy().pop(TARGET)\n",
    "x = joined_df.copy()[FEATURES]\n",
    "x_train, x_test, y_train, y_test = train_test_split(x, y, random_state=0)\n",
    "\n",
    "test_scores = list()\n",
    "\n",
    "for i in range(30):\n",
    "    rfe = RandomForestRegressor(\n",
    "        max_depth=5,\n",
    "        max_features='sqrt',\n",
    "        min_samples_split=3,\n",
    "        n_estimators=50\n",
    "    )\n",
    "\n",
    "    select = SelectKBest(k=6)\n",
    "\n",
    "    scaler = MinMaxScaler()\n",
    "\n",
    "    pipeline = Pipeline(\n",
    "        steps=[\n",
    "            ('scaler', scaler),\n",
    "            ('selector', select),\n",
    "            ('estimator', rfe),\n",
    "        ]\n",
    "    )\n",
    "    \n",
    "    pipeline.fit(x_train, y_train)\n",
    "    test_scores.append(pipeline.score(x_test, y_test))\n",
    "    \n",
    "print('\\n'.join('{}'.format(score) for score in test_scores))"
   ]
  }
 ],
 "metadata": {
  "kernelspec": {
   "display_name": "Python 3",
   "language": "python",
   "name": "python3"
  },
  "language_info": {
   "codemirror_mode": {
    "name": "ipython",
    "version": 3
   },
   "file_extension": ".py",
   "mimetype": "text/x-python",
   "name": "python",
   "nbconvert_exporter": "python",
   "pygments_lexer": "ipython3",
   "version": "3.7.1"
  }
 },
 "nbformat": 4,
 "nbformat_minor": 2
}
